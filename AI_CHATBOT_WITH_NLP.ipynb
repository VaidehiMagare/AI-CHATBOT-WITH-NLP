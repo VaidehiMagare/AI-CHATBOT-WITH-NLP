{
  "nbformat": 4,
  "nbformat_minor": 0,
  "metadata": {
    "colab": {
      "provenance": [],
      "authorship_tag": "ABX9TyOs8hV6dN1Fey+bbfRLcL08",
      "include_colab_link": true
    },
    "kernelspec": {
      "name": "python3",
      "display_name": "Python 3"
    },
    "language_info": {
      "name": "python"
    }
  },
  "cells": [
    {
      "cell_type": "markdown",
      "metadata": {
        "id": "view-in-github",
        "colab_type": "text"
      },
      "source": [
        "<a href=\"https://colab.research.google.com/github/VaidehiMagare/AI-CHATBOT-WITH-NLP/blob/main/AI_CHATBOT_WITH_NLP.ipynb\" target=\"_parent\"><img src=\"https://colab.research.google.com/assets/colab-badge.svg\" alt=\"Open In Colab\"/></a>"
      ]
    },
    {
      "cell_type": "code",
      "source": [
        "import shutil\n",
        "shutil.rmtree('/usr/local/nltk_data', ignore_errors=True)\n",
        "shutil.rmtree('/root/nltk_data', ignore_errors=True)"
      ],
      "metadata": {
        "id": "PCnNcu4JvU8v"
      },
      "execution_count": 1,
      "outputs": []
    },
    {
      "cell_type": "code",
      "execution_count": 2,
      "metadata": {
        "id": "sFe_J3pHIio3"
      },
      "outputs": [],
      "source": [
        "import random\n",
        "import string  # to remove punctuation"
      ]
    },
    {
      "cell_type": "code",
      "source": [
        "# ✅ Installing and loading spaCy\n",
        "!pip install -q spacy\n",
        "!python -m spacy download en_core_web_sm\n",
        "\n",
        "import spacy\n",
        "nlp = spacy.load(\"en_core_web_sm\")"
      ],
      "metadata": {
        "colab": {
          "base_uri": "https://localhost:8080/"
        },
        "id": "DmjKmjlpwTwj",
        "outputId": "74983a77-6144-44c0-cf64-bf4a7951950f"
      },
      "execution_count": 3,
      "outputs": [
        {
          "output_type": "stream",
          "name": "stdout",
          "text": [
            "Collecting en-core-web-sm==3.8.0\n",
            "  Downloading https://github.com/explosion/spacy-models/releases/download/en_core_web_sm-3.8.0/en_core_web_sm-3.8.0-py3-none-any.whl (12.8 MB)\n",
            "\u001b[2K     \u001b[90m━━━━━━━━━━━━━━━━━━━━━━━━━━━━━━━━━━━━━━━━\u001b[0m \u001b[32m12.8/12.8 MB\u001b[0m \u001b[31m47.4 MB/s\u001b[0m eta \u001b[36m0:00:00\u001b[0m\n",
            "\u001b[?25h\u001b[38;5;2m✔ Download and installation successful\u001b[0m\n",
            "You can now load the package via spacy.load('en_core_web_sm')\n",
            "\u001b[38;5;3m⚠ Restart to reload dependencies\u001b[0m\n",
            "If you are in a Jupyter or Colab notebook, you may need to restart Python in\n",
            "order to load all the package's dependencies. You can do this by selecting the\n",
            "'Restart kernel' or 'Restart runtime' option.\n"
          ]
        }
      ]
    },
    {
      "cell_type": "code",
      "source": [
        "import requests"
      ],
      "metadata": {
        "id": "Lf9ApE2qqaSA"
      },
      "execution_count": 20,
      "outputs": []
    },
    {
      "cell_type": "code",
      "source": [
        "NEWS_API_KEY = \"cca7a2a355264b7cb72588f73b2cd23e\"\n",
        "\n",
        "url = f\"https://newsapi.org/v2/top-headlines?country=us&apiKey={NEWS_API_KEY}\"\n",
        "\n",
        "response = requests.get(url)\n",
        "data = response.json()\n",
        "print(data[\"status\"])\n",
        "print(len(data.get(\"articles\", [])))"
      ],
      "metadata": {
        "colab": {
          "base_uri": "https://localhost:8080/"
        },
        "id": "ooJrsOg81ti0",
        "outputId": "07a8df03-42dd-44fe-a844-9be28b0f1c65"
      },
      "execution_count": 21,
      "outputs": [
        {
          "output_type": "stream",
          "name": "stdout",
          "text": [
            "ok\n",
            "17\n"
          ]
        }
      ]
    },
    {
      "cell_type": "code",
      "source": [
        "NEWS_API_KEY = \"cca7a2a355264b7cb72588f73b2cd23e\"\n",
        "\n",
        "def get_top_news():\n",
        "    print(\"DEBUG: Inside get_top_news()\")\n",
        "    urls = [\n",
        "        f\"https://newsapi.org/v2/top-headlines?country=in&apiKey={NEWS_API_KEY}\",\n",
        "        f\"https://newsapi.org/v2/top-headlines?country=us&apiKey={NEWS_API_KEY}\"\n",
        "    ]\n",
        "\n",
        "    for url in urls:\n",
        "        try:\n",
        "            response = requests.get(url)\n",
        "            data = response.json()\n",
        "            if data[\"status\"] == \"ok\":\n",
        "                articles = data.get(\"articles\", [])[:5]\n",
        "                if articles:\n",
        "                    return \"\\n\".join([f\"{i+1}. {a['title']}\" for i, a in enumerate(articles)])\n",
        "        except:\n",
        "            continue\n",
        "\n",
        "    return \"✅ News API is working, but no headlines are available at the moment. Try again later!\""
      ],
      "metadata": {
        "id": "8ahYVvu_qgfH"
      },
      "execution_count": 22,
      "outputs": []
    },
    {
      "cell_type": "code",
      "source": [
        "# knowledge base\n",
        "\n",
        "knowledge_base = {\n",
        "    \"greeting\": [\n",
        "        \"hello\", \"hi\", \"hii\", \"hey\", \"good morning\", \"good evening\", \"what's up\", \"yo\", \"howdy\"\n",
        "    ],\n",
        "    \"goodbye\": [\n",
        "        \"bye\", \"goodbye\", \"see you\", \"take care\", \"later\", \"see ya\", \"talk to you later\"\n",
        "    ],\n",
        "    \"how_are_you\": [\n",
        "        \"how are you\", \"how's it going\", \"how are you doing\", \"what's up with you\", \"are you okay\"\n",
        "    ],\n",
        "    \"thanks\": [\n",
        "        \"thanks\", \"thank you\", \"much appreciated\", \"thx\", \"thanks a lot\", \"thank you very much\"\n",
        "    ],\n",
        "    \"about\": [\n",
        "        \"who are you\", \"what can you do\", \"tell me about yourself\", \"what are you\", \"describe yourself\"\n",
        "    ],\n",
        "    \"news\": [\"news\", \"tell me the news\", \"headlines\", \"latest news\"] ,\n",
        "\n",
        "    \"help\": [\n",
        "        \"help\", \"can you help me\", \"i need assistance\", \"i need help\", \"support me\"\n",
        "    ],\n",
        "    \"name\": [\n",
        "        \"what is your name\", \"who are you\", \"do you have a name\", \"tell me your name\"\n",
        "    ],\n",
        "    \"weather\": [\n",
        "        \"what's the weather\", \"is it raining\", \"how's the weather\", \"weather forecast\", \"will it rain today\"\n",
        "    ],\n",
        "    \"joke\": [\n",
        "        \"tell me a joke\", \"make me laugh\", \"say something funny\", \"i want to hear a joke\"\n",
        "    ],\n",
        "    \"age\": [\n",
        "        \"how old are you\", \"what's your age\", \"when were you created\", \"your age\"\n",
        "    ]\n",
        "}\n",
        "\n",
        "\n",
        "responses = {\n",
        "    \"greeting\": \"Hello! How can I assist you today?\",\n",
        "    \"goodbye\": \"Goodbye! Have a nice day.\",\n",
        "    \"how_are_you\": \"I'm a chatbot, always ready to help!\",\n",
        "    \"thanks\": \"You're welcome! Happy to assist.\",\n",
        "    \"about\": \"I'm a simple chatbot created using SpaCy. I can answer basic questions and chat with you.\",\n",
        "    \"help\": \"Sure, I'm here to help! Ask me anything or tell me what you need.\",\n",
        "    \"name\": \"You can call me ChatBot! I'm your virtual assistant.\",\n",
        "    \"weather\": \"I can't check live weather yet, but I suggest looking at a weather website or app!\",\n",
        "    \"joke\": \"Why don’t scientists trust atoms? Because they make up everything! 😄\",\n",
        "    \"age\": \"I'm timeless! But I was created recently to assist you with basic tasks and fun chats.\",\n",
        "    \"news\": get_top_news  ,  # NOTE: this is a callable now, not a string\n",
        "}"
      ],
      "metadata": {
        "id": "vN4UvgQigUF0"
      },
      "execution_count": 23,
      "outputs": []
    },
    {
      "cell_type": "code",
      "source": [
        "def preprocess(text):\n",
        "  # convert to lowercase - makes matching consitent\n",
        "  doc = nlp(text.lower())\n",
        "\n",
        "  # Return the final list of cleaned, meaningful words\n",
        "  return [token.lemma_ for token in doc if not token.is_stop and not token.is_punct]"
      ],
      "metadata": {
        "id": "2jnckHa9g8kp"
      },
      "execution_count": 24,
      "outputs": []
    },
    {
      "cell_type": "code",
      "source": [
        "# takes user input (a string) and returns an appropriate chatbot response\n",
        "def get_responses(user_input):\n",
        "    user_tokens = set(preprocess(user_input))\n",
        "\n",
        "    if \"news\" in user_tokens:\n",
        "        return get_top_news()\n",
        "\n",
        "    cleaned_text = \" \".join(preprocess(user_input))\n",
        "    best_intent = None\n",
        "    best_score = 0\n",
        "\n",
        "    best_intent = None\n",
        "    best_score = 0\n",
        "\n",
        "    for intent, keyword_phrases in knowledge_base.items():\n",
        "        for phrase in keyword_phrases:\n",
        "            phrase_tokens = set(preprocess(phrase))\n",
        "            match_score = len(user_tokens & phrase_tokens)\n",
        "            if match_score > best_score:\n",
        "                best_score = match_score\n",
        "                best_intent = intent\n",
        "\n",
        "    if best_intent:\n",
        "        response = responses[best_intent]\n",
        "        return response() if callable(response) else response\n",
        "\n",
        "    return \"I'm sorry, I don't understand that. Can you rephrase?\""
      ],
      "metadata": {
        "id": "IDXG5oefigjd"
      },
      "execution_count": 29,
      "outputs": []
    },
    {
      "cell_type": "code",
      "source": [
        "def chatbot():\n",
        "  print(\"Bot: Hi! Type 'exit' to end the conversation :)\")\n",
        "\n",
        "  while True:\n",
        "    user_input = input(\"You: \")\n",
        "\n",
        "    if user_input in ['exit', 'quit', 'Exit', 'Quit']:\n",
        "      print(\"Bot: Goodbye! 👋 Feel free to come back anytime if you have more questions or need help. Take care! 😊\")\n",
        "      break\n",
        "\n",
        "    response = get_responses(user_input)\n",
        "    print(\"Bot: \", response)"
      ],
      "metadata": {
        "id": "B1rO4Qtbn6FF"
      },
      "execution_count": 30,
      "outputs": []
    },
    {
      "cell_type": "code",
      "source": [
        "preprocess(\"What's the best way to learn coding?\")"
      ],
      "metadata": {
        "colab": {
          "base_uri": "https://localhost:8080/"
        },
        "id": "x6E-pvkuyWYg",
        "outputId": "4f305005-928e-46d7-aa7f-40cf3eb112cc"
      },
      "execution_count": 31,
      "outputs": [
        {
          "output_type": "execute_result",
          "data": {
            "text/plain": [
              "['good', 'way', 'learn', 'coding']"
            ]
          },
          "metadata": {},
          "execution_count": 31
        }
      ]
    },
    {
      "cell_type": "code",
      "source": [
        "chatbot()"
      ],
      "metadata": {
        "colab": {
          "base_uri": "https://localhost:8080/"
        },
        "id": "VIeOs4-Sp4mZ",
        "outputId": "b9992ab6-9121-483e-e1c3-0ea22f273240"
      },
      "execution_count": 32,
      "outputs": [
        {
          "output_type": "stream",
          "name": "stdout",
          "text": [
            "Bot: Hi! Type 'exit' to end the conversation :)\n",
            "You: hi\n",
            "Bot:  Hello! How can I assist you today?\n",
            "You: news\n",
            "DEBUG: Inside get_top_news()\n",
            "Bot:  1. PayPal teams up with the Big Ten and Big 12 to enable payments to student-athletes - CNBC\n",
            "2. Newly single Orlando Bloom warmly greets Kim Kardashian in Venice after that viral photo checking her out - Page Six\n",
            "3. Iran's supreme leader claims 'victory' over Israel before first video message since ceasefire - BBC\n",
            "4. Foldable iPhone Leak Reveals New Camera Details - MacRumors\n",
            "5. 'The Bear' is back — and leaning into its strengths in Season 4 - NPR\n",
            "You: tell me a joke\n",
            "Bot:  Why don’t scientists trust atoms? Because they make up everything! 😄\n",
            "You: what is your age\n",
            "Bot:  I'm timeless! But I was created recently to assist you with basic tasks and fun chats.\n",
            "You: what all can you do\n",
            "Bot:  I'm sorry, I don't understand that. Can you rephrase?\n",
            "You: bye\n",
            "Bot:  Goodbye! Have a nice day.\n",
            "You: quit\n",
            "Bot: Goodbye! 👋 Feel free to come back anytime if you have more questions or need help. Take care! 😊\n"
          ]
        }
      ]
    }
  ]
}